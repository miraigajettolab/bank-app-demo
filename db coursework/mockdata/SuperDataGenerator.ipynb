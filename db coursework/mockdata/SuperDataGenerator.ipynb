{
 "cells": [
  {
   "cell_type": "code",
   "execution_count": 203,
   "metadata": {},
   "outputs": [
    {
     "name": "stdout",
     "output_type": "stream",
     "text": [
      "Requirement already satisfied: names in c:\\users\\josh\\anaconda3\\lib\\site-packages (0.3.0)\n",
      "Requirement already satisfied: random-username in c:\\users\\josh\\anaconda3\\lib\\site-packages (1.0.2)\n",
      "Requirement already satisfied: random-password-generator in c:\\users\\josh\\anaconda3\\lib\\site-packages (2.1.0)\n"
     ]
    }
   ],
   "source": [
    "!pip install names\n",
    "!pip install random-username\n",
    "!pip install random-password-generator"
   ]
  },
  {
   "cell_type": "code",
   "execution_count": 204,
   "metadata": {},
   "outputs": [],
   "source": [
    "import names\n",
    "from random_username.generate import generate_username\n",
    "from password_generator import PasswordGenerator\n",
    "import random"
   ]
  },
  {
   "cell_type": "code",
   "execution_count": 281,
   "metadata": {},
   "outputs": [],
   "source": [
    "def n_rand_digits(n):\n",
    "    return str(random.randint(1, 9)) + ''.join([\"{}\".format(random.randint(0, 9)) for num in range(0, n - 1)]) #firt digit isn't 0\n",
    "\n",
    "def withProbabilityOf(probability):\n",
    "    return random.random() < probability\n",
    "\n",
    "def generate_date(startYear, endYear):\n",
    "    yyyy = random.randint(startYear, endYear)\n",
    "    mm = random.randint(1,12)\n",
    "    dd = None\n",
    "    isLeap = yyyy % 4 == 0 and (yyyy % 100 != 0 or yyyy % 400 == 0)\n",
    "    if (mm == 1 or mm == 3 or mm == 5 or mm == 7 or mm == 8 or mm == 10 or mm == 12):\n",
    "        dd = random.randint(1,31)\n",
    "    elif (mm == 4 or mm == 6 or mm == 9 or mm == 11):\n",
    "        dd = random.randint(1,30)\n",
    "    else:\n",
    "        if(isLeap):\n",
    "            dd = random.randint(1,29)\n",
    "        else:\n",
    "            dd = random.randint(1,28)\n",
    "    return \"{}-{}-{}\".format(yyyy,mm,dd)\n",
    "\n",
    "pwo = PasswordGenerator()\n",
    "# All properties are optional\n",
    "pwo.minlen = 10\n",
    "pwo.maxlen = 30\n",
    "#pwo.minuchars = 2\n",
    "pwo.minlchars = 10\n",
    "#pwo.minnumbers = 1\n",
    "#pwo.minschars = 1 "
   ]
  },
  {
   "cell_type": "code",
   "execution_count": 285,
   "metadata": {},
   "outputs": [],
   "source": [
    "def generate_workers(n):\n",
    "    data = \"\"\n",
    "    for i in range(0, n):\n",
    "        passport = n_rand_digits(10) #PassportNumber\n",
    "        name = names.get_full_name() #FullName\n",
    "        bd = generate_date(1940, 2001) #BirthDate\n",
    "        tax = n_rand_digits(12) #TaxId\n",
    "        login = generate_username(1)[0]+str(random.randint(0, 99)) #Login\n",
    "        password = pwo.generate() #Password\n",
    "        data += \"EXEC Add_Worker '{}', '{}', '{}', '{}', '{}', '{}';\".format(passport,name,bd,tax,login,password) + \"\\n\"\n",
    "    return data\n",
    "\n",
    "def generate_clients(n):\n",
    "    data = \"\"\n",
    "    for i in range(0, n):\n",
    "        passport = n_rand_digits(10) #PassportNumber\n",
    "        name = names.get_full_name() #FullName\n",
    "        bd = generate_date(1940, 2005) #BirthDate\n",
    "        creatorId = random.randint(1, 100) #AccountCreatorId, the second number here is amount of workers (we pick one of their ids)\n",
    "        tax = \"NULL\" #TaxId\n",
    "        phone = \"NULL\" #PhoneNumber\n",
    "        income = \"NULL\" #IncomePerMonth\n",
    "        if (withProbabilityOf(0.9)):\n",
    "            phone = \"89\" + n_rand_digits(9)\n",
    "        if (withProbabilityOf(0.4)):\n",
    "            tax = n_rand_digits(12)\n",
    "            income = random.randint(10, 200) * 1000 \n",
    "        data += \"EXEC Add_Client '{}', '{}', '{}', '{}', {}, {}, {};\".format(passport,name,bd,creatorId,tax,phone,income) + \"\\n\"\n",
    "    return data"
   ]
  },
  {
   "cell_type": "code",
   "execution_count": 286,
   "metadata": {},
   "outputs": [
    {
     "name": "stdout",
     "output_type": "stream",
     "text": [
      "--- 68.75600695610046 seconds ---\n"
     ]
    }
   ],
   "source": [
    "import time\n",
    "start_time = time.time()\n",
    "\n",
    "f = open(\"10kClientsFor100Workers.sql\", \"w\")\n",
    "f.write(generate_clients(10000))\n",
    "f.close()\n",
    "\n",
    "print(\"--- %s seconds ---\" % (time.time() - start_time))"
   ]
  },
  {
   "cell_type": "code",
   "execution_count": 288,
   "metadata": {},
   "outputs": [
    {
     "name": "stdout",
     "output_type": "stream",
     "text": [
      "EXEC Add_Client '7554418459', 'Patricia Weir', '1990-6-1', '1', 403752527764, 89111640240, 28000;\n",
      "\n"
     ]
    }
   ],
   "source": [
    " print(generate_clients(1))"
   ]
  },
  {
   "cell_type": "code",
   "execution_count": 272,
   "metadata": {},
   "outputs": [
    {
     "data": {
      "text/plain": [
       "4388"
      ]
     },
     "execution_count": 272,
     "metadata": {},
     "output_type": "execute_result"
    }
   ],
   "source": []
  },
  {
   "cell_type": "code",
   "execution_count": null,
   "metadata": {},
   "outputs": [],
   "source": []
  },
  {
   "cell_type": "code",
   "execution_count": null,
   "metadata": {},
   "outputs": [],
   "source": []
  }
 ],
 "metadata": {
  "kernelspec": {
   "display_name": "Python 3",
   "language": "python",
   "name": "python3"
  },
  "language_info": {
   "codemirror_mode": {
    "name": "ipython",
    "version": 3
   },
   "file_extension": ".py",
   "mimetype": "text/x-python",
   "name": "python",
   "nbconvert_exporter": "python",
   "pygments_lexer": "ipython3",
   "version": "3.7.1"
  }
 },
 "nbformat": 4,
 "nbformat_minor": 2
}
